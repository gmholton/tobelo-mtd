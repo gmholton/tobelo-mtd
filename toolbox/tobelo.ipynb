{
 "cells": [
  {
   "cell_type": "code",
   "execution_count": 1,
   "id": "2f18cfde",
   "metadata": {},
   "outputs": [
    {
     "name": "stdout",
     "output_type": "stream",
     "text": [
      "Main entries (lx):  3237\n",
      "Subentries (se):  14\n"
     ]
    }
   ],
   "source": [
    "from nltk import toolbox as tb\n",
    "from xml.etree import ElementTree as ET\n",
    "\n",
    "# use NLTK to parse toolbox data as an XML tree\n",
    "td = tb.ToolboxData()\n",
    "td.open('tobelo.db')\n",
    "tob = td.parse()\n",
    "td.close()\n",
    "\n",
    "\n",
    "print('Main entries (lx): ' , len(tob)-1)\n",
    "    \n",
    "n=0\n",
    "for entry in tob:\n",
    "    n += len(entry.findall('se'))\n",
    "print('Subentries (se): ' , n)\n",
    "    \n"
   ]
  },
  {
   "cell_type": "code",
   "execution_count": 19,
   "id": "451c3da9",
   "metadata": {},
   "outputs": [
    {
     "data": {
      "text/plain": [
       "('lx', 'abari')"
      ]
     },
     "execution_count": 19,
     "metadata": {},
     "output_type": "execute_result"
    }
   ],
   "source": [
    "tob[1][0].tag, tob[1][0].text"
   ]
  },
  {
   "cell_type": "code",
   "execution_count": 36,
   "id": "b8014cf9",
   "metadata": {},
   "outputs": [
    {
     "name": "stdout",
     "output_type": "stream",
     "text": [
      "o akere ma utu\n",
      "o akere ma biono\n",
      "o akere ma jobubu\n",
      "o huhu ma akere\n",
      "o akere ma lako\n",
      "6\n"
     ]
    }
   ],
   "source": [
    "entry = tob[22]\n",
    "for se in entry.findall('se'):\n",
    "    print(se.text)\n",
    "print(len(entry.findall('ge')))"
   ]
  },
  {
   "cell_type": "code",
   "execution_count": 5,
   "id": "95275af1",
   "metadata": {},
   "outputs": [
    {
     "name": "stdout",
     "output_type": "stream",
     "text": [
      "[None, None, None]\n",
      "['abari', 'o', 'news']\n",
      "['abo', 'ma', 'foam']\n",
      "['ade-ade', 'ho', 'to narrate']\n",
      "['adono', 'ho', 'come up to']\n",
      "['aerani', 'ma', 'wonderful']\n",
      "['aere', 'i na', 'ant trails']\n",
      "['aere', 'o', 'high *tide']\n",
      "['aga', 'ho', 'dumb']\n",
      "['agomo', 'ma', 'thick']\n"
     ]
    }
   ],
   "source": [
    "for entry in tob[:10]:\n",
    "    lx = entry.findtext('lx')\n",
    "    ps = entry.findtext('ps')\n",
    "    defn = entry.findtext('ge')\n",
    "    print([lx,ps,defn])"
   ]
  },
  {
   "cell_type": "code",
   "execution_count": 7,
   "id": "c61eb340",
   "metadata": {},
   "outputs": [],
   "source": [
    "# write out first entries as csv\n",
    "import csv\n",
    "\n",
    "entries = []\n",
    "n = 0\n",
    "for entry in tob[1:]:\n",
    "    n += 1\n",
    "    lx = entry.findtext('lx')\n",
    "    ps = entry.findtext('ps')\n",
    "    if entry.findtext('de') == None:\n",
    "        ges = []\n",
    "        for ge in entry.findall('ge'):\n",
    "            ges.append(ge.text)\n",
    "        de = ', '.join(ges)\n",
    "    else:\n",
    "        de = entry.findtext('de')\n",
    "    if entry.findtext('sd') == None:\n",
    "        sd = ''\n",
    "    else:\n",
    "        sd = entry.findtext('sd')\n",
    "    entries.append([n, lx,ps,de,sd])\n",
    "\n",
    "\n",
    "with open(\"tob.csv\", \"w\", newline=\"\") as f:\n",
    "    writer = csv.writer(f)\n",
    "    writer.writerows(entries)\n",
    "    "
   ]
  },
  {
   "cell_type": "code",
   "execution_count": null,
   "id": "98096607",
   "metadata": {},
   "outputs": [],
   "source": []
  }
 ],
 "metadata": {
  "kernelspec": {
   "display_name": "Python 3 (ipykernel)",
   "language": "python",
   "name": "python3"
  },
  "language_info": {
   "codemirror_mode": {
    "name": "ipython",
    "version": 3
   },
   "file_extension": ".py",
   "mimetype": "text/x-python",
   "name": "python",
   "nbconvert_exporter": "python",
   "pygments_lexer": "ipython3",
   "version": "3.11.1"
  }
 },
 "nbformat": 4,
 "nbformat_minor": 5
}
