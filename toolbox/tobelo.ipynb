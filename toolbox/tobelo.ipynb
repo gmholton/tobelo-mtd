{
 "cells": [
  {
   "cell_type": "code",
   "execution_count": 104,
   "id": "2f18cfde",
   "metadata": {},
   "outputs": [
    {
     "name": "stdout",
     "output_type": "stream",
     "text": [
      "Main entries (lx):  3268\n",
      "Subentries (se):  0\n"
     ]
    }
   ],
   "source": [
    "from nltk import toolbox as tb\n",
    "from xml.etree import ElementTree as ET\n",
    "\n",
    "# use NLTK to parse toolbox data as an XML tree\n",
    "td = tb.ToolboxData()\n",
    "td.open('tobelo.db')\n",
    "tob = td.parse()\n",
    "td.close()\n",
    "\n",
    "\n",
    "print('Main entries (lx): ' , len(tob)-1)\n",
    "    \n",
    "n=0\n",
    "for entry in tob:\n",
    "    n += len(entry.findall('se'))\n",
    "print('Subentries (se): ' , n)\n",
    "    \n"
   ]
  },
  {
   "cell_type": "code",
   "execution_count": 7,
   "id": "c61eb340",
   "metadata": {},
   "outputs": [],
   "source": [
    "# write out first entries as csv\n",
    "import csv\n",
    "\n",
    "entries = []\n",
    "n = 0\n",
    "for entry in tob[1:]:\n",
    "    n += 1\n",
    "    lx = entry.findtext('lx')\n",
    "    ps = entry.findtext('ps')\n",
    "    if entry.findtext('de') == None: # no \\de field\n",
    "        ges = []\n",
    "        for ge in entry.findall('ge'):\n",
    "            ges.append(ge.text)\n",
    "        de = ', '.join(ges)   # combine all \\ge fields\n",
    "    else:\n",
    "        de = entry.findtext('de')\n",
    "    if entry.findtext('sd') == None:  # no \\sd field\n",
    "        sd = ''\n",
    "    else:\n",
    "        sd = entry.findtext('sd')\n",
    "    entries.append([n, lx,ps,de,sd])\n",
    "\n",
    "\n",
    "with open(\"tob.csv\", \"w\", newline=\"\") as f:\n",
    "    writer = csv.writer(f)\n",
    "    writer.writerows(entries)\n",
    "    "
   ]
  },
  {
   "cell_type": "code",
   "execution_count": 19,
   "id": "451c3da9",
   "metadata": {},
   "outputs": [
    {
     "data": {
      "text/plain": [
       "('lx', 'abari')"
      ]
     },
     "execution_count": 19,
     "metadata": {},
     "output_type": "execute_result"
    }
   ],
   "source": [
    "tob[1][0].tag, tob[1][0].text"
   ]
  },
  {
   "cell_type": "code",
   "execution_count": 36,
   "id": "b8014cf9",
   "metadata": {},
   "outputs": [
    {
     "name": "stdout",
     "output_type": "stream",
     "text": [
      "o akere ma utu\n",
      "o akere ma biono\n",
      "o akere ma jobubu\n",
      "o huhu ma akere\n",
      "o akere ma lako\n",
      "6\n"
     ]
    }
   ],
   "source": [
    "entry = tob[22]\n",
    "for se in entry.findall('se'):\n",
    "    print(se.text)\n",
    "print(len(entry.findall('ge')))"
   ]
  },
  {
   "cell_type": "code",
   "execution_count": 5,
   "id": "95275af1",
   "metadata": {},
   "outputs": [
    {
     "name": "stdout",
     "output_type": "stream",
     "text": [
      "[None, None, None]\n",
      "['abari', 'o', 'news']\n",
      "['abo', 'ma', 'foam']\n",
      "['ade-ade', 'ho', 'to narrate']\n",
      "['adono', 'ho', 'come up to']\n",
      "['aerani', 'ma', 'wonderful']\n",
      "['aere', 'i na', 'ant trails']\n",
      "['aere', 'o', 'high *tide']\n",
      "['aga', 'ho', 'dumb']\n",
      "['agomo', 'ma', 'thick']\n"
     ]
    }
   ],
   "source": [
    "for entry in tob[:10]:\n",
    "    lx = entry.findtext('lx')\n",
    "    ps = entry.findtext('ps')\n",
    "    defn = entry.findtext('ge')\n",
    "    print([lx,ps,defn])"
   ]
  },
  {
   "cell_type": "code",
   "execution_count": 25,
   "id": "98096607",
   "metadata": {},
   "outputs": [
    {
     "name": "stdout",
     "output_type": "stream",
     "text": [
      "90 entries with more than one \\ps\n"
     ]
    }
   ],
   "source": [
    "# how many entries have mulitple senses\n",
    "# (i.e., multiple parts of speech field \\ps)\n",
    "n=0\n",
    "for entry in tob:\n",
    "    if len(entry.findall('ps')) > 1:\n",
    "        n+=1\n",
    "print(n, 'entries with more than one \\\\ps')"
   ]
  },
  {
   "cell_type": "code",
   "execution_count": 31,
   "id": "7cc6b6a7",
   "metadata": {},
   "outputs": [],
   "source": [
    "# flatten db so that separate senses are converted to headwords\n",
    "f = tb.StandardFormat()\n",
    "f.open('tobelo.db')\n",
    "lines = []\n",
    "for (x,y) in list(f.fields()):\n",
    "    lines.append( (x,y))\n",
    "f.close()\n",
    "\n",
    "ps = False\n",
    "lx = ''\n",
    "tob_sf = []\n",
    "for (x,y) in lines:\n",
    "    if x == 'lx':\n",
    "        ps = False\n",
    "        lx = y\n",
    "    if x == 'ps':\n",
    "        if ps == True:\n",
    "            tob_sf.append(['lx',lx]) # insert lx field\n",
    "        else:\n",
    "            ps = True\n",
    "    tob_sf.append([x,y])\n",
    "            \n",
    "with open('tobelo-flat.db','w',newline=\"\") as f:\n",
    "     for line in tob_sf:\n",
    "        f.writelines('\\\\' + line[0] + ' ' + line[1] +'\\n')\n"
   ]
  },
  {
   "cell_type": "code",
   "execution_count": 44,
   "id": "2dca030b",
   "metadata": {},
   "outputs": [
    {
     "name": "stdout",
     "output_type": "stream",
     "text": [
      "['o', 'ma', 'ho', 'ho mahi', 'i', 'i na', 'part', 'vsf', 'npf', 'ha', 'nanga', 'PRO', 'ho hi', 'ho mag', '', 'ho ma', 'adv', 'DEM', 'loc', 'dir', 'Q', 'ADV', 'ho ma g', 'manga', 'ya', 'NUM', 'vpf', 'EXC', 'plant', 'DIR', 'INTEROG', 'NCL', 'RFLX', 'num', 'ho ma hi', 'i ma', 'ho maka', 'ho ma k', 'COUNT']\n"
     ]
    }
   ],
   "source": [
    "# get list of Parts of Speech\n",
    "pos = []\n",
    "for entry in tob:\n",
    "    for ps in entry.findall('ps'):\n",
    "        if ps.text not in pos:\n",
    "            pos.append(ps.text)\n",
    "print(pos)"
   ]
  },
  {
   "cell_type": "code",
   "execution_count": 46,
   "id": "f62fbb9e",
   "metadata": {},
   "outputs": [],
   "source": [
    "# get list of Parts of Speech\n",
    "# and write to TLex csv file\n",
    "pos = []\n",
    "pos3 = []\n",
    "for entry in tob:\n",
    "    for ps in entry.findall('ps'):\n",
    "        if ps.text not in pos:\n",
    "            pos.append(ps.text)\n",
    "            pos3.append([ps.text,ps.text,ps.text])\n",
    "\n",
    "with open('pos.csv','w',newline=\"\") as f:\n",
    "    writer = csv.writer(f)\n",
    "    writer.writerows(pos3)"
   ]
  },
  {
   "cell_type": "code",
   "execution_count": 106,
   "id": "9b0e1f4e",
   "metadata": {},
   "outputs": [
    {
     "name": "stdout",
     "output_type": "stream",
     "text": [
      "['', 'nautical', 'plant', 'insect', 'body part', 'earth', 'color', 'time', 'kin', 'hunting', 'food', 'animal', 'fish', 'fishing', 'dir', 'tool', 'household', 'birds', 'sky', 'magic', 'Eulipoa wallacei', 'num', 'nauticalical', 'weaving', 'clothing', 'house', 'bird', 'people', 'NUM', 'med']\n"
     ]
    }
   ],
   "source": [
    "# get list of Semantic Domains\n",
    "# and write to TLex csv file\n",
    "sem = []\n",
    "sem3 = []\n",
    "for entry in tob:\n",
    "    for sd in entry.findall('sd'):\n",
    "        if sd.text not in sem:\n",
    "            sem.append(sd.text)\n",
    "            sem3.append([sd.text,sd.text,sd.text])\n",
    "\n",
    "print(sem)\n",
    "\n",
    "with open('sem.csv','w',newline=\"\") as f:\n",
    "    writer = csv.writer(f)\n",
    "    writer.writerows(sem3)"
   ]
  },
  {
   "cell_type": "code",
   "execution_count": 35,
   "id": "a23cac8f",
   "metadata": {},
   "outputs": [],
   "source": [
    "# write out flattened file as csv\n",
    "import csv\n",
    "\n",
    "td = tb.ToolboxData()\n",
    "td.open('tobelo-flat.db')\n",
    "tob_flat = td.parse()\n",
    "td.close()\n",
    "\n",
    "entries = []\n",
    "n = 0\n",
    "for entry in tob[1:]:\n",
    "    n += 1\n",
    "    lx = entry.findtext('lx')\n",
    "    ps = entry.findtext('ps')\n",
    "    if entry.findtext('de') == None: # no \\de field\n",
    "        ges = []\n",
    "        for ge in entry.findall('ge'):\n",
    "            ges.append(ge.text)\n",
    "        de = ', '.join(ges)   # combine all \\ge fields\n",
    "    else:\n",
    "        de = entry.findtext('de')\n",
    "    if entry.findtext('sd') == None:  # no \\sd field\n",
    "        sd = ''\n",
    "    else:\n",
    "        sd = entry.findtext('sd')\n",
    "    if entry.findtext('xv') == None:\n",
    "        xv = ''\n",
    "    else:\n",
    "        xv = entry.findtext('xv')\n",
    "    if entry.findtext('xe') == None:\n",
    "        xe = ''\n",
    "    else:\n",
    "        xe = entry.findtext('xe')\n",
    "        \n",
    "    entries.append([n, lx,ps,de,sd,xv,xe])\n",
    "\n",
    "\n",
    "with open(\"tob-flat.csv\", \"w\", newline=\"\") as f:\n",
    "    writer = csv.writer(f)\n",
    "    writer.writerows(entries)\n",
    "    "
   ]
  },
  {
   "cell_type": "code",
   "execution_count": 105,
   "id": "f1266a2b",
   "metadata": {},
   "outputs": [],
   "source": [
    "# write to XML\n",
    "s = ''\n",
    "for entry in tob[1:]:\n",
    "    lx = entry.findtext('lx')\n",
    "    \n",
    "    sds = []\n",
    "    for sd in entry.findall('sd'):\n",
    "        sds.append(sd.text)\n",
    "    sem_doms = ','.join(sds)\n",
    "\n",
    "    s += '<Lemma LemmaSign=\"' + lx + '\" SemDomain=\"' + sem_doms + '\">\\n'\n",
    "    \n",
    "    \n",
    "    # ps tag should trigger new sense, but need to deal with entries which lack ps tags\n",
    "    # set flag for entires with no ps\n",
    "    NoPS = entry.findtext('ps') == None\n",
    "        \n",
    "    sn = 0 # sense number\n",
    "    defn = '' # \\de field\n",
    "    ges = [] # \\ge fields\n",
    "    for line in entry:\n",
    "        if line.tag == 'ps' or NoPS: # new sense (or no sense)\n",
    "            sn += 1\n",
    "            if sn > 1: # close previous sense\n",
    "                if len(defn) > 0: # use defn\n",
    "                    s += '<TE TE=\"' + defn + '\"/>\\n' \n",
    "                else: # use \\ge fields\n",
    "                    for ge in ges:\n",
    "                        s += '<TE TE=\"' + ge + '\"/>\\n'\n",
    "                s += '</Sense>\\n'  \n",
    "                defn = '' # reset\n",
    "                ges = []  # reset\n",
    "            # start new sense\n",
    "            if NoPS:\n",
    "                s += '<Sense SenseNumber=\"' + str(sn) + '\">\\n'\n",
    "                NoPS = False\n",
    "            else:\n",
    "                s += '<Sense SenseNumber=\"' + str(sn) + '\" PartOfSpeech=\"' + line.text +  '\">\\n'\n",
    "        else:\n",
    "            if line.tag == 'de':\n",
    "                defn = line.text\n",
    "            elif line.tag == 'ge':\n",
    "                ges.append(line.text)\n",
    "            elif line.tag == 'sc':\n",
    "                s += '<Definition SciName=\"' + line.text + '\"/>\\n'\n",
    "            elif line.tag == 'xv':\n",
    "                s += '<Example Example=\"' + line.text + '\" '\n",
    "            elif line.tag == 'xe':\n",
    "                s += 'Translation=\"' + line.text + '\"/>\\n'\n",
    "\n",
    "    # close last sense\n",
    "    if len(defn) > 0: # use defn\n",
    "        s += '<TE TE=\"' + defn + '\"/>\\n' \n",
    "    else: # iterate over \\ge fields\n",
    "        for ge in ges:\n",
    "            s += '<TE TE=\"' + ge + '\"/>\\n'\n",
    "    s += '</Sense>\\n'  \n",
    "\n",
    "    \n",
    "    s += '</Lemma>\\n\\n'\n",
    "    \n",
    "with open('tobelo-out.xml','w',newline=\"\") as f:\n",
    "    f.write(s)"
   ]
  },
  {
   "cell_type": "code",
   "execution_count": null,
   "id": "b788fef6",
   "metadata": {},
   "outputs": [],
   "source": []
  }
 ],
 "metadata": {
  "kernelspec": {
   "display_name": "Python 3 (ipykernel)",
   "language": "python",
   "name": "python3"
  },
  "language_info": {
   "codemirror_mode": {
    "name": "ipython",
    "version": 3
   },
   "file_extension": ".py",
   "mimetype": "text/x-python",
   "name": "python",
   "nbconvert_exporter": "python",
   "pygments_lexer": "ipython3",
   "version": "3.11.1"
  }
 },
 "nbformat": 4,
 "nbformat_minor": 5
}
